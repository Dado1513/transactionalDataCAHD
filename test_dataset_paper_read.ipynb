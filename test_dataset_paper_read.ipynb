{
 "cells": [
  {
   "cell_type": "code",
   "execution_count": 1,
   "metadata": {
    "collapsed": true
   },
   "outputs": [],
   "source": [
    "import pandas as pd"
   ]
  },
  {
   "cell_type": "code",
   "execution_count": 33,
   "metadata": {
    "collapsed": false
   },
   "outputs": [],
   "source": [
    "file = open(\"DatasetUsageByPaper/BMS1_spmf.txt\",\"r\")"
   ]
  },
  {
   "cell_type": "code",
   "execution_count": 34,
   "metadata": {
    "collapsed": false
   },
   "outputs": [],
   "source": [
    "read = file.readlines()\n",
    "lines = list()\n",
    "for line in read:\n",
    "    line= line.replace(\"-1\",\";\")\n",
    "    line = line.replace(\"-2\",\"\")\n",
    "    line = line.replace(\" \",\"\")\n",
    "    lines.append(line)\n",
    "file.close()\n",
    "file_write = open(\"DatasetUsageByPaper/BMS1.csv\",\"w\")\n",
    "for line in lines:\n",
    "    file_write.write(line)\n",
    "file_write.close()"
   ]
  },
  {
   "cell_type": "code",
   "execution_count": 42,
   "metadata": {
    "collapsed": false
   },
   "outputs": [],
   "source": [
    "file = open(\"DatasetUsageByPaper/BMS2.txt\",\"r\")\n",
    "read = file.readlines()\n",
    "lines = list()\n",
    "for line in read:\n",
    "    line= line.replace(\"-1\",\";\")\n",
    "    line = line.replace(\"-2\",\"\")\n",
    "    line = line.replace(\" \",\"\")\n",
    "    lines.append(line)\n",
    "file.close()\n",
    "file_write = open(\"DatasetUsageByPaper/BMS2.csv\",\"w\")\n",
    "for line in lines:\n",
    "    file_write.write(line)\n",
    "file_write.close()"
   ]
  },
  {
   "cell_type": "code",
   "execution_count": 36,
   "metadata": {
    "collapsed": true
   },
   "outputs": [],
   "source": []
  },
  {
   "cell_type": "code",
   "execution_count": 37,
   "metadata": {
    "collapsed": false
   },
   "outputs": [
    {
     "data": {
      "text/plain": [
       "'10307;10311;12487;\\n'"
      ]
     },
     "execution_count": 37,
     "metadata": {},
     "output_type": "execute_result"
    }
   ],
   "source": []
  },
  {
   "cell_type": "code",
   "execution_count": 40,
   "metadata": {
    "collapsed": false
   },
   "outputs": [],
   "source": []
  },
  {
   "cell_type": "code",
   "execution_count": 41,
   "metadata": {
    "collapsed": true
   },
   "outputs": [],
   "source": []
  },
  {
   "cell_type": "code",
   "execution_count": null,
   "metadata": {
    "collapsed": true
   },
   "outputs": [],
   "source": []
  }
 ],
 "metadata": {
  "kernelspec": {
   "display_name": "Python 3",
   "language": "python",
   "name": "python3"
  },
  "language_info": {
   "codemirror_mode": {
    "name": "ipython",
    "version": 3
   },
   "file_extension": ".py",
   "mimetype": "text/x-python",
   "name": "python",
   "nbconvert_exporter": "python",
   "pygments_lexer": "ipython3",
   "version": "3.6.0"
  }
 },
 "nbformat": 4,
 "nbformat_minor": 2
}
