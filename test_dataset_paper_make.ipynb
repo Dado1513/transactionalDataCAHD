{
 "cells": [
  {
   "cell_type": "code",
   "execution_count": 1,
   "metadata": {
    "collapsed": true
   },
   "outputs": [],
   "source": [
    "import pandas as pd\n",
    "import numpy as np\n",
    "name_bms1_csv = \"Dataset Paper/BMS1.csv\"\n",
    "name_bms2_csv = \"Dataset Paper/BMS2.csv\""
   ]
  },
  {
   "cell_type": "code",
   "execution_count": 22,
   "metadata": {
    "collapsed": false
   },
   "outputs": [],
   "source": [
    "# compute CSV file BMS1\n",
    "file = open(\"Dataset Paper/BMS1_spmf.txt\",\"r\")\n",
    "read = file.readlines()\n",
    "lines = list()\n",
    "for line in read:\n",
    "    line = line.replace(\"-2\",\"\")\n",
    "    line = line.replace(\" \",\"\")\n",
    "    line = line[:-2]\n",
    "    line = line.rstrip(\"-\")\n",
    "    line= line.replace(\"-1\",\",\")    \n",
    "    lines.append(line)\n",
    "file.close()\n",
    "file_write = open(name_bms1_csv,\"w\")\n",
    "for line in lines:\n",
    "    file_write.write(line+\"\\n\")\n",
    "file_write.close()"
   ]
  },
  {
   "cell_type": "code",
   "execution_count": 2,
   "metadata": {
    "collapsed": false
   },
   "outputs": [],
   "source": [
    "# BMS1\n",
    "my_cols = [x for x in range(0,268)]\n",
    "df = pd.read_csv(name_bms1_csv,names=my_cols,index_col=None ,engine='c',dtype='object')\n",
    "df = df.where((pd.notnull(df)), None)\n",
    "df_dummies = pd.get_dummies(df)\n",
    "# sum item with same number after _\n",
    "columns = list()\n",
    "for column in df_dummies.columns:\n",
    "    for column_1 in df_dummies.columns:\n",
    "        if(column != column_1 and column.split('_')[1] == column_1.split('_')[1] and column.split('_')[1] not in columns ):\n",
    "            columns.append(column.split('_')[1])\n",
    "\n",
    "# remove duplicate\n",
    "columns = list(set(columns))  \n",
    "zero_data = np.zeros(shape=(len(df_dummies),len(columns)))\n",
    "df_new = pd.DataFrame(zero_data, columns=columns,dtype='uint8')\n",
    "# qualcosa non val alcuni sono valori maggiori di 1\n",
    "# create a transactional data\n",
    "for column in df_dummies.columns:\n",
    "    for column_1 in df_dummies.columns:\n",
    "        if(column != column_1 and column.split('_')[1] == column_1.split('_')[1]):\n",
    "            if(column.split('_')[0]=='0'):\n",
    "                colonna_new  = column.split('_')[1]\n",
    "                if(len(df_new.index[df_new[colonna_new] > 0].tolist())==0):\n",
    "                    df_new[colonna_new]=df_new[colonna_new] + df_dummies[column] + df_dummies[column_1]\n",
    "                else:\n",
    "                    df_new[colonna_new] = df_new[colonna_new] + df_dummies[column_1]\n",
    "                #print(df_new[colonna_new])\n",
    "                \n",
    "# ora bisogn aaggiungere len(df) -len(columns) item finti con vlori tutti 0 \n",
    "# per avere una matrice quadrata (vedi paper)\n",
    "len(columns)\n",
    "# write item in a file\n",
    "with open(\"Dataset Paper/lista_items_BMS1.txt\",\"w\") as f:\n",
    "    for x in list(df_new.columns):\n",
    "        f.write(str(x)+\"\\n\")\n",
    "        \n",
    "df_new.to_csv(\"Dataset Paper/dataBMS1_transiction.csv\")\n"
   ]
  },
  {
   "cell_type": "code",
   "execution_count": 12,
   "metadata": {
    "collapsed": false
   },
   "outputs": [],
   "source": [
    "#READ FILE BMS2\n",
    "file = open(\"Dataset Paper/BMS2.txt\",\"r\")\n",
    "read = file.readlines()\n",
    "lines = list()\n",
    "for line in read:\n",
    "    line = line.replace(\"-2\",\"\")\n",
    "    line = line.replace(\" \",\"\")\n",
    "    line = line[:-2]\n",
    "    line = line.rstrip(\"-\")\n",
    "    line= line.replace(\"-1\",\",\")\n",
    "    lines.append(line)\n",
    "file.close()\n",
    "file_write = open(name_bms2_csv,\"w\")\n",
    "for line in lines:\n",
    "    file_write.write(line+\"\\n\")\n",
    "file_write.close()"
   ]
  },
  {
   "cell_type": "code",
   "execution_count": 33,
   "metadata": {
    "collapsed": false
   },
   "outputs": [
    {
     "ename": "KeyboardInterrupt",
     "evalue": "",
     "output_type": "error",
     "traceback": [
      "\u001b[0;31m---------------------------------------------------------------------------\u001b[0m",
      "\u001b[0;31mKeyboardInterrupt\u001b[0m                         Traceback (most recent call last)",
      "\u001b[0;32m<ipython-input-33-02e0a3a5cdb4>\u001b[0m in \u001b[0;36m<module>\u001b[0;34m()\u001b[0m\n\u001b[1;32m      7\u001b[0m \u001b[1;32mfor\u001b[0m \u001b[0mcolumn\u001b[0m \u001b[1;32min\u001b[0m \u001b[0mdf_dummies\u001b[0m\u001b[1;33m.\u001b[0m\u001b[0mcolumns\u001b[0m\u001b[1;33m:\u001b[0m\u001b[1;33m\u001b[0m\u001b[0m\n\u001b[1;32m      8\u001b[0m     \u001b[1;32mfor\u001b[0m \u001b[0mcolumn_1\u001b[0m \u001b[1;32min\u001b[0m \u001b[0mdf_dummies\u001b[0m\u001b[1;33m.\u001b[0m\u001b[0mcolumns\u001b[0m\u001b[1;33m:\u001b[0m\u001b[1;33m\u001b[0m\u001b[0m\n\u001b[0;32m----> 9\u001b[0;31m         \u001b[1;32mif\u001b[0m\u001b[1;33m(\u001b[0m\u001b[0mcolumn\u001b[0m \u001b[1;33m!=\u001b[0m \u001b[0mcolumn_1\u001b[0m \u001b[1;32mand\u001b[0m \u001b[0mcolumn\u001b[0m\u001b[1;33m.\u001b[0m\u001b[0msplit\u001b[0m\u001b[1;33m(\u001b[0m\u001b[1;34m'_'\u001b[0m\u001b[1;33m)\u001b[0m\u001b[1;33m[\u001b[0m\u001b[1;36m1\u001b[0m\u001b[1;33m]\u001b[0m \u001b[1;33m==\u001b[0m \u001b[0mcolumn_1\u001b[0m\u001b[1;33m.\u001b[0m\u001b[0msplit\u001b[0m\u001b[1;33m(\u001b[0m\u001b[1;34m'_'\u001b[0m\u001b[1;33m)\u001b[0m\u001b[1;33m[\u001b[0m\u001b[1;36m1\u001b[0m\u001b[1;33m]\u001b[0m \u001b[1;32mand\u001b[0m \u001b[0mcolumn\u001b[0m\u001b[1;33m.\u001b[0m\u001b[0msplit\u001b[0m\u001b[1;33m(\u001b[0m\u001b[1;34m'_'\u001b[0m\u001b[1;33m)\u001b[0m\u001b[1;33m[\u001b[0m\u001b[1;36m1\u001b[0m\u001b[1;33m]\u001b[0m \u001b[1;32mnot\u001b[0m \u001b[1;32min\u001b[0m \u001b[0mcolumns\u001b[0m \u001b[1;33m)\u001b[0m\u001b[1;33m:\u001b[0m\u001b[1;33m\u001b[0m\u001b[0m\n\u001b[0m\u001b[1;32m     10\u001b[0m             \u001b[0mcolumns\u001b[0m\u001b[1;33m.\u001b[0m\u001b[0mappend\u001b[0m\u001b[1;33m(\u001b[0m\u001b[0mcolumn\u001b[0m\u001b[1;33m.\u001b[0m\u001b[0msplit\u001b[0m\u001b[1;33m(\u001b[0m\u001b[1;34m'_'\u001b[0m\u001b[1;33m)\u001b[0m\u001b[1;33m[\u001b[0m\u001b[1;36m1\u001b[0m\u001b[1;33m]\u001b[0m\u001b[1;33m)\u001b[0m\u001b[1;33m\u001b[0m\u001b[0m\n\u001b[1;32m     11\u001b[0m \u001b[1;33m\u001b[0m\u001b[0m\n",
      "\u001b[0;31mKeyboardInterrupt\u001b[0m: "
     ]
    }
   ],
   "source": [
    "# BMS2\n",
    "my_cols = [x for x in range(0,161)]\n",
    "df = pd.read_csv(name_bms2_csv,names=my_cols,index_col=None ,engine='c',dtype= 'object')\n",
    "df = df.where((pd.notnull(df)), None)\n",
    "df_dummies = pd.get_dummies(df)\n",
    "# sum item with same number after _\n",
    "columns = list()\n",
    "for column in df_dummies.columns:\n",
    "    for column_1 in df_dummies.columns:\n",
    "        if(column != column_1 and column.split('_')[1] == column_1.split('_')[1] and column.split('_')[1] not in columns ):\n",
    "            columns.append(column.split('_')[1])\n",
    "\n",
    "# remove duplicate\n",
    "columns = list(set(columns))  \n",
    "zero_data = np.zeros(shape=(len(df_dummies),len(columns)))\n",
    "df_new = pd.DataFrame(zero_data, columns=columns,dtype='uint8')\n",
    "# qualcosa non val alcuni sono valori maggiori di 1\n",
    "# create a transactional data\n",
    "for column in df_dummies.columns:\n",
    "    for column_1 in df_dummies.columns:\n",
    "        if(column != column_1 and column.split('_')[1] == column_1.split('_')[1]):\n",
    "            if(column.split('_')[0]=='0'):\n",
    "                colonna_new  = column.split('_')[1]\n",
    "                if(len(df_new.index[df_new[colonna_new] > 0].tolist())==0):\n",
    "                    df_new[colonna_new]=df_new[colonna_new] + df_dummies[column] + df_dummies[column_1]\n",
    "                else:\n",
    "                    df_new[colonna_new] = df_new[colonna_new] + df_dummies[column_1]\n",
    "                #print(df_new[colonna_new])\n",
    "                \n",
    "# ora bisogn aaggiungere len(df) -len(columns) item finti con vlori tutti 0 \n",
    "# per avere una matrice quadrata (vedi paper)\n",
    "len(columns)\n",
    "# write item in a file\n",
    "with open(\"Dataset Paper/lista_items_BMS2.txt\",\"w\") as f:\n",
    "    for x in list(df_new.columns):\n",
    "        f.write(str(x)+\"\\n\")\n",
    "        \n",
    "df_new.to_csv(\"Dataset Paper/dataBMS2_transiction.csv\")"
   ]
  },
  {
   "cell_type": "code",
   "execution_count": null,
   "metadata": {
    "collapsed": true
   },
   "outputs": [],
   "source": [
    "#DATAFRAME COMPLET --> matrix square\n",
    "zero_data_to_add = np.zeros(shape=(len(df_dummies),len(df_dummies)-len(columns)))\n",
    "columns_to_add = [x for x in range(0,len(df_dummies)-len(columns))] \n",
    "df_to_add = pd.DataFrame(zero_data_to_add, columns=columns_to_add,dtype='uint8')\n",
    "\n",
    "# creo il dataset completo aggiungendo tutti gli zeri che mancano\n",
    "df_new_complete = pd.concat([df_new, df_to_add], axis=1)\n",
    "# rename all column name\n",
    "df_new_complete.columns = [i for i in range(df_new_complete.shape[1])]\n",
    "# for write in a file uncommented this line\n",
    "# save dataset complete in 1000x1000\n",
    "\n",
    "# df_new_complete.to_csv(\"data_complete.csv\",header = False, index=False)\n",
    "\n",
    "# compute RCM for matrix complete\n",
    "sparse_complete = csr_matrix(df_new_complete)\n",
    "# RCM algorithm fro df_tuncate\n",
    "order_complete = reverse_cuthill_mckee(sparse_complete)\n",
    "\n",
    "# print(df_new_complete)\n",
    "# print(len(df_new_complete),len(order_complete))\n",
    "\n",
    "print(\"df_new_complete without RCM\")\n",
    "plt.spy(df_new_complete)\n",
    "plt.show()\n",
    "print(\"df_new_complete with RCM\")\n",
    "plt.spy(df_new_complete.iloc[order_complete][order_complete])\n",
    "plt.show()\n",
    "\n",
    "[i,j] = np.where(df_new_complete.iloc[order_complete][order_complete] == 1)\n",
    "bw = max(i-j) +1\n",
    "print(\"bw after RCM \" + str(bw))\n",
    "[i,j] = np.where(df_new_complete == 1)\n",
    "bw = max(i-j) +1\n",
    "print(\"bw first RCM \" +str(bw))\n",
    "df_completed_reordered = df_new_complete.iloc[order_complete][order_complete]"
   ]
  }
 ],
 "metadata": {
  "kernelspec": {
   "display_name": "Python 3",
   "language": "python",
   "name": "python3"
  },
  "language_info": {
   "codemirror_mode": {
    "name": "ipython",
    "version": 3
   },
   "file_extension": ".py",
   "mimetype": "text/x-python",
   "name": "python",
   "nbconvert_exporter": "python",
   "pygments_lexer": "ipython3",
   "version": "3.6.0"
  }
 },
 "nbformat": 4,
 "nbformat_minor": 2
}
